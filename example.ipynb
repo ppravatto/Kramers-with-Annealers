{
 "cells": [
  {
   "cell_type": "code",
   "execution_count": 11,
   "metadata": {},
   "outputs": [],
   "source": [
    "import math\n",
    "from binary_mapping import *\n",
    "from helper_functions import *\n",
    "from XBK_method import *\n",
    "from openfermion.utils import count_qubits"
   ]
  },
  {
   "cell_type": "code",
   "execution_count": 12,
   "metadata": {},
   "outputs": [],
   "source": [
    "#load Hamiltonian operator matrix and generate qubit operator\n",
    "filename = \"hamiltonian.txt\"\n",
    "raw_qubit_H = get_binary_Hamiltonian(filename)\n",
    "qubit_H = to_QubitOperator(raw_qubit_H)"
   ]
  },
  {
   "cell_type": "code",
   "execution_count": 13,
   "metadata": {},
   "outputs": [],
   "source": [
    "#set sampler to perform the annealing\n",
    "from neal import SimulatedAnnealingSampler\n",
    "sampler = SimulatedAnnealingSampler() #uses simulated annealing, see D-Wave's ocean sdk for more options"
   ]
  },
  {
   "cell_type": "code",
   "execution_count": 21,
   "metadata": {},
   "outputs": [],
   "source": [
    "#set r value\n",
    "r = 20\n",
    "\n",
    "#construct qubit Hamiltonians and C terms for XBK method\n",
    "m = count_qubits(qubit_H)\n",
    "qubit_Hs, qubit_Cs = [],[]\n",
    "for p in range(int(math.ceil(r/2+1))):\n",
    "    qubit_Hs += [XBK_transform(qubit_H, r, p)]\n",
    "    qubit_Cs += [construct_C(m, r, p)]\n",
    "\n",
    "#run XBK method\n",
    "XBK_energy, ground_state = XBK(qubit_Hs, qubit_Cs, r, sampler, starting_lam=2, num_samples=1000, strength=1e3, verbose=False)\n",
    "\n",
    "print(XBK_energy)\n",
    "print(ground_state) #ground state in rm-qubit space"
   ]
  },
  {
   "cell_type": "code",
   "execution_count": null,
   "metadata": {},
   "outputs": [],
   "source": []
  }
 ],
 "metadata": {
  "kernelspec": {
   "display_name": "Python 3",
   "language": "python",
   "name": "python3"
  },
  "language_info": {
   "codemirror_mode": {
    "name": "ipython",
    "version": 3
   },
   "file_extension": ".py",
   "mimetype": "text/x-python",
   "name": "python",
   "nbconvert_exporter": "python",
   "pygments_lexer": "ipython3",
   "version": "3.6.12"
  }
 },
 "nbformat": 4,
 "nbformat_minor": 4
}
